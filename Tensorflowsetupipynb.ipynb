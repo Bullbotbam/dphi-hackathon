{
 "cells": [
  {
   "cell_type": "code",
   "execution_count": null,
   "metadata": {
    "id": "2L-cjBpQl5uB"
   },
   "outputs": [],
   "source": [
    "from datetime import datetime\n",
    "\n",
    "import numpy as np\n",
    "import pandas as pd\n",
    "\n",
    "import matplotlib.pyplot as plt \n",
    "import seaborn as sns \n",
    "\n",
    "from sklearn.model_selection import train_test_split\n",
    "from sklearn.preprocessing import StandardScaler\n",
    "from sklearn.metrics import accuracy_score, precision_score, recall_score\n",
    "\n",
    "import tensorflow as tf\n",
    "\n",
    "from tensorflow import keras\n",
    "from tensorflow.keras import layers"
   ]
  },
  {
   "cell_type": "code",
   "execution_count": null,
   "metadata": {},
   "outputs": [],
   "source": [
    "# google drive file for training dataset pics \n",
    "# https://drive.google.com/drive/folders/1oDfKmsR96ykX37BSp7XoUzKd82ZNBKee?usp=sharing"
   ]
  },
  {
   "cell_type": "code",
   "execution_count": null,
   "metadata": {
    "colab": {
     "base_uri": "https://localhost:8080/"
    },
    "id": "R7F3ygShHR0k",
    "outputId": "5dd8d629-2e19-49a3-ecab-5cb2133e51e4"
   },
   "outputs": [],
   "source": [
    "!pip install tensorflow"
   ]
  },
  {
   "cell_type": "code",
   "execution_count": 4,
   "metadata": {},
   "outputs": [
    {
     "ename": "SyntaxError",
     "evalue": "invalid syntax (<ipython-input-4-9ec4d5268fe5>, line 1)",
     "output_type": "error",
     "traceback": [
      "\u001b[1;36m  File \u001b[1;32m\"<ipython-input-4-9ec4d5268fe5>\"\u001b[1;36m, line \u001b[1;32m1\u001b[0m\n\u001b[1;33m    -m pip install --upgrade pip\u001b[0m\n\u001b[1;37m       ^\u001b[0m\n\u001b[1;31mSyntaxError\u001b[0m\u001b[1;31m:\u001b[0m invalid syntax\n"
     ]
    }
   ],
   "source": [
    "-m pip install --upgrade pip "
   ]
  },
  {
   "cell_type": "code",
   "execution_count": 4,
   "metadata": {
    "colab": {
     "base_uri": "https://localhost:8080/"
    },
    "id": "Ssq9jMw9IgVG",
    "outputId": "a77afcc3-0d1f-4bf3-8e42-2d57f3ca56d4"
   },
   "outputs": [
    {
     "name": "stdout",
     "output_type": "stream",
     "text": [
      "2.8.0\n"
     ]
    }
   ],
   "source": [
    "print(tf.__version__)"
   ]
  },
  {
   "cell_type": "code",
   "execution_count": 3,
   "metadata": {},
   "outputs": [
    {
     "name": "stdout",
     "output_type": "stream",
     "text": [
      "Requirement already satisfied: opencv-python in c:\\programdata\\anaconda3\\lib\\site-packages (4.5.5.64)Note: you may need to restart the kernel to use updated packages.\n"
     ]
    },
    {
     "name": "stderr",
     "output_type": "stream",
     "text": [
      "WARNING: Ignoring invalid distribution -upyter-client (c:\\programdata\\anaconda3\\lib\\site-packages)\n",
      "WARNING: Ignoring invalid distribution -upyter-client (c:\\programdata\\anaconda3\\lib\\site-packages)\n",
      "WARNING: Ignoring invalid distribution -upyter-client (c:\\programdata\\anaconda3\\lib\\site-packages)\n",
      "WARNING: Ignoring invalid distribution -upyter-client (c:\\programdata\\anaconda3\\lib\\site-packages)\n",
      "WARNING: Ignoring invalid distribution -upyter-client (c:\\programdata\\anaconda3\\lib\\site-packages)\n",
      "WARNING: Ignoring invalid distribution -upyter-client (c:\\programdata\\anaconda3\\lib\\site-packages)\n",
      "WARNING: You are using pip version 22.0.3; however, version 22.0.4 is available.\n",
      "You should consider upgrading via the 'C:\\ProgramData\\Anaconda3\\python.exe -m pip install --upgrade pip' command.\n"
     ]
    },
    {
     "name": "stdout",
     "output_type": "stream",
     "text": [
      "\n",
      "Requirement already satisfied: numpy>=1.14.5 in c:\\programdata\\anaconda3\\lib\\site-packages (from opencv-python) (1.22.2)\n"
     ]
    }
   ],
   "source": [
    "pip install opencv-python"
   ]
  },
  {
   "cell_type": "code",
   "execution_count": null,
   "metadata": {},
   "outputs": [],
   "source": [
    "pwd"
   ]
  },
  {
   "cell_type": "code",
   "execution_count": null,
   "metadata": {},
   "outputs": [],
   "source": [
    "import cv2\n",
    "import glob\n",
    "from skimage import io\n",
    "\n",
    "path = glob.glob('C:\\\\Users\\\\cef19\\\\Desktop\\\\DPhi\\\\World_League_Datathon\\\\pest_classification\\\\pest_classification\\\\training_dataset\\\\*.jpg')\n",
    "#path = glob.glob('./images/*.jpg')\n",
    "\n",
    "for file in path:\n",
    "    #print(file)\n",
    "    img = io.imread(file)\n",
    "    #gray = cv2.cvtColor(img, cv2.COLOR_BGR2RGB)\n",
    "    cv2.imshow('file',img)\n",
    "    cv2.waitKey(0)\n",
    "    cv2.destroyAllWindows()\n",
    "    #print(file)"
   ]
  },
  {
   "cell_type": "code",
   "execution_count": 2,
   "metadata": {},
   "outputs": [],
   "source": [
    "import cv2\n",
    "import glob\n",
    "from skimage import io\n",
    "\n",
    "path = glob.glob('https://drive.google.com/drive/folders/1oDfKmsR96ykX37BSp7XoUzKd82ZNBKee?usp=sharing*.jpg')\n",
    "#path = glob.glob('./images/*.jpg')\n",
    "\n",
    "for file in path:\n",
    "    #print(file)\n",
    "    img = io.imread(file)\n",
    "    #gray = cv2.cvtColor(img, cv2.COLOR_BGR2RGB)\n",
    "    cv2.imshow('file',img)\n",
    "    cv2.waitKey(0)\n",
    "    cv2.destroyAllWindows()\n",
    "    #print(file)"
   ]
  },
  {
   "cell_type": "code",
   "execution_count": null,
   "metadata": {
    "id": "qsY_AcFqajU4"
   },
   "outputs": [],
   "source": [
    "DATADIR = r\"C:\\Users\\cef19\\Desktop\\DPhi\\World_League_Datathon\\pest_classification\\pest_classification\\training_dataset\""
   ]
  },
  {
   "cell_type": "code",
   "execution_count": 2,
   "metadata": {
    "id": "GZescBHWdsv4"
   },
   "outputs": [],
   "source": [
    "directory = r\"C:\\Users\\cef19\\Desktop\\DPhi\\World_League_Datathon\\pest_classification\\pest_classification\\training_dataset\""
   ]
  },
  {
   "cell_type": "code",
   "execution_count": 5,
   "metadata": {
    "colab": {
     "base_uri": "https://localhost:8080/",
     "height": 235
    },
    "id": "7-125ugJdRa7",
    "outputId": "e33c8e9a-45b9-4449-fb77-94e5ae0e7bcd"
   },
   "outputs": [],
   "source": [
    "import os\n",
    "DATADIR = r\"C:\\Users\\cef19\\Desktop\\DPhi\\World_League_Datathon\\pest_classification\\pest_classification\\training_dataset\"\n",
    "\n",
    "for filename in os.listdir(DATADIR):\n",
    "    if filename.endswith(\".jpeg\"):\n",
    "      #do smth\n",
    "      continue\n",
    "    else:\n",
    "      continue\n",
    "    print(filename)\n",
    "     "
   ]
  },
  {
   "cell_type": "code",
   "execution_count": 6,
   "metadata": {
    "colab": {
     "base_uri": "https://localhost:8080/",
     "height": 235
    },
    "id": "aIroSKowZFpF",
    "outputId": "a16c2157-4392-4d40-c6d2-ec3a06e57f92"
   },
   "outputs": [
    {
     "ename": "NameError",
     "evalue": "name 'CATEGORIES' is not defined",
     "output_type": "error",
     "traceback": [
      "\u001b[1;31m---------------------------------------------------------------------------\u001b[0m",
      "\u001b[1;31mNameError\u001b[0m                                 Traceback (most recent call last)",
      "\u001b[1;32m<ipython-input-6-b4d56d09f77a>\u001b[0m in \u001b[0;36m<module>\u001b[1;34m\u001b[0m\n\u001b[0;32m      9\u001b[0m \u001b[1;31m#CATEGORIES = [\"Dog\", \"Cat\"]\u001b[0m\u001b[1;33m\u001b[0m\u001b[1;33m\u001b[0m\u001b[1;33m\u001b[0m\u001b[0m\n\u001b[0;32m     10\u001b[0m \u001b[1;33m\u001b[0m\u001b[0m\n\u001b[1;32m---> 11\u001b[1;33m \u001b[1;32mfor\u001b[0m \u001b[0mdd\u001b[0m \u001b[1;32min\u001b[0m \u001b[0mCATEGORIES\u001b[0m\u001b[1;33m:\u001b[0m  \u001b[1;31m# do dogs and cats\u001b[0m\u001b[1;33m\u001b[0m\u001b[1;33m\u001b[0m\u001b[0m\n\u001b[0m\u001b[0;32m     12\u001b[0m     \u001b[1;31m#path = os.path.join(DATADIR,category)  # create path to dogs and cats\u001b[0m\u001b[1;33m\u001b[0m\u001b[1;33m\u001b[0m\u001b[1;33m\u001b[0m\u001b[0m\n\u001b[0;32m     13\u001b[0m     \u001b[1;32mfor\u001b[0m \u001b[0mimg\u001b[0m \u001b[1;32min\u001b[0m \u001b[0mos\u001b[0m\u001b[1;33m.\u001b[0m\u001b[0mlistdir\u001b[0m\u001b[1;33m(\u001b[0m\u001b[1;33m)\u001b[0m\u001b[1;33m:\u001b[0m  \u001b[1;31m# iterate over each image per dogs and cats\u001b[0m\u001b[1;33m\u001b[0m\u001b[1;33m\u001b[0m\u001b[0m\n",
      "\u001b[1;31mNameError\u001b[0m: name 'CATEGORIES' is not defined"
     ]
    }
   ],
   "source": [
    "import numpy as np\n",
    "import matplotlib.pyplot as plt\n",
    "import os\n",
    "import cv2\n",
    "from tqdm import tqdm\n",
    "\n",
    "DATADIR = r\"C:\\Users\\cef19\\Desktop\\DPhi\\World_League_Datathon\\pest_classification\\pest_classification\\training_dataset\"\n",
    "\n",
    "#CATEGORIES = [\"Dog\", \"Cat\"]\n",
    "\n",
    "for dd in CATEGORIES:  # do dogs and cats\n",
    "    #path = os.path.join(DATADIR,category)  # create path to dogs and cats\n",
    "    for img in os.listdir():  # iterate over each image per dogs and cats\n",
    "        img_array = cv2.imread(os.path.join(img) ,cv2.IMREAD_GRAYSCALE)  # convert to array\n",
    "        plt.imshow(img_array, cmap='gray')  # graph it\n",
    "        plt.show()  # display!\n",
    "\n",
    "        break  # we just want one for now so break\n",
    "    break  #...and one more!"
   ]
  },
  {
   "cell_type": "code",
   "execution_count": 15,
   "metadata": {
    "colab": {
     "base_uri": "https://localhost:8080/",
     "height": 130
    },
    "id": "5mJM6G27ZfqR",
    "outputId": "1c4a381b-b93a-4b1d-cc54-9f9b711c7cc9"
   },
   "outputs": [
    {
     "ename": "SyntaxError",
     "evalue": "(unicode error) 'unicodeescape' codec can't decode bytes in position 4-5: truncated \\UXXXXXXXX escape (<ipython-input-15-14383bef9259>, line 7)",
     "output_type": "error",
     "traceback": [
      "\u001b[1;36m  File \u001b[1;32m\"<ipython-input-15-14383bef9259>\"\u001b[1;36m, line \u001b[1;32m7\u001b[0m\n\u001b[1;33m    DATADIR = \"r(C:\\Users\\cef19\\Desktop\\DPhi\\World_League_Datathon\\pest_classification\\pest_classification\\training_dataset)\"\u001b[0m\n\u001b[1;37m              ^\u001b[0m\n\u001b[1;31mSyntaxError\u001b[0m\u001b[1;31m:\u001b[0m (unicode error) 'unicodeescape' codec can't decode bytes in position 4-5: truncated \\UXXXXXXXX escape\n"
     ]
    }
   ],
   "source": [
    "import numpy as np\n",
    "import matplotlib.pyplot as plt\n",
    "import os\n",
    "import cv2\n",
    "from tqdm import tqdm\n",
    "\n",
    "DATADIR = \"r(C:\\Users\\cef19\\Desktop\\DPhi\\World_League_Datathon\\pest_classification\\pest_classification\\training_dataset)\""
   ]
  },
  {
   "cell_type": "code",
   "execution_count": 8,
   "metadata": {
    "id": "GTeSNdozeyrE"
   },
   "outputs": [],
   "source": [
    "folder_dir = \"C:\\\\Users\\\\cef19\\\\Desktop\\\\DPhi\\\\World_League_Datathon\\\\pest_classification\\\\pest_classification\\\\training_dataset\""
   ]
  },
  {
   "cell_type": "code",
   "execution_count": null,
   "metadata": {},
   "outputs": [],
   "source": [
    "test = 'https://drive.google.com/drive/folders/1oDfKmsR96ykX37BSp7XoUzKd82ZNBKee?usp=sharing'"
   ]
  },
  {
   "cell_type": "code",
   "execution_count": 9,
   "metadata": {
    "colab": {
     "base_uri": "https://localhost:8080/",
     "height": 235
    },
    "id": "ilTef8PXeZji",
    "outputId": "977201b1-d988-45f1-86fa-877ce3f467c9"
   },
   "outputs": [
    {
     "name": "stdout",
     "output_type": "stream",
     "text": [
      "Image_136.jpeg\n",
      "Image_137.jpeg\n",
      "Image_138.jpeg\n",
      "Image_139.jpeg\n",
      "Image_140.jpeg\n",
      "Image_141.jpeg\n",
      "Image_142.jpeg\n",
      "Image_143.jpeg\n",
      "Image_144.jpeg\n",
      "Image_145.jpeg\n",
      "Image_147.jpeg\n",
      "Image_148.jpeg\n",
      "Image_149.jpeg\n",
      "Image_150.jpeg\n",
      "Image_151.jpeg\n",
      "Image_152.jpeg\n",
      "Image_153.jpeg\n",
      "Image_154.jpeg\n",
      "Image_155.jpeg\n",
      "Image_156.jpeg\n",
      "Image_158.jpeg\n",
      "Image_159.jpeg\n",
      "Image_160.jpeg\n",
      "Image_161.jpeg\n",
      "Image_162.jpeg\n",
      "Image_163.jpeg\n",
      "Image_164.jpeg\n",
      "Image_165.jpeg\n",
      "Image_166.jpeg\n",
      "Image_167.jpeg\n",
      "Image_168.jpeg\n",
      "Image_169.jpeg\n",
      "Image_170.jpeg\n",
      "Image_171.jpeg\n",
      "Image_172.jpeg\n",
      "Image_173.jpeg\n",
      "Image_174.jpeg\n",
      "Image_175.jpeg\n",
      "Image_176.jpeg\n",
      "Image_177.jpeg\n",
      "Image_178.jpeg\n",
      "Image_179.jpeg\n",
      "Image_180.jpeg\n",
      "Image_181.jpeg\n",
      "Image_182.jpeg\n",
      "Image_183.jpeg\n",
      "Image_184.jpeg\n",
      "Image_185.jpeg\n",
      "Image_187.jpeg\n",
      "Image_188.jpeg\n",
      "Image_189.jpeg\n",
      "Image_190.jpeg\n",
      "Image_191.jpeg\n",
      "Image_192.jpeg\n",
      "Image_193.jpeg\n",
      "Image_194.jpeg\n",
      "Image_195.jpeg\n",
      "Image_196.jpeg\n",
      "Image_198.jpeg\n",
      "Image_199.jpeg\n",
      "Image_200.jpeg\n",
      "Image_201.jpeg\n",
      "Image_202.jpeg\n",
      "Image_203.jpeg\n",
      "Image_204.jpeg\n",
      "Image_205.jpeg\n",
      "Image_206.jpeg\n",
      "Image_207.jpeg\n",
      "Image_278.jpeg\n",
      "Image_279.jpeg\n",
      "Image_280.jpeg\n",
      "Image_281.jpeg\n",
      "Image_282.jpeg\n",
      "Image_283.jpeg\n",
      "Image_284.jpeg\n",
      "Image_285.jpeg\n",
      "Image_286.jpeg\n",
      "Image_288.jpeg\n",
      "Image_289.jpeg\n",
      "Image_290.jpeg\n",
      "Image_291.jpeg\n",
      "Image_292.jpeg\n",
      "Image_293.jpeg\n",
      "Image_294.jpeg\n",
      "Image_295.jpeg\n",
      "Image_296.jpeg\n",
      "Image_298.jpeg\n",
      "Image_299.jpeg\n",
      "Image_300.jpeg\n",
      "Image_301.jpeg\n",
      "Image_303.jpeg\n",
      "Image_304.jpeg\n",
      "Image_305.jpeg\n",
      "Image_306.jpeg\n",
      "Image_307.jpeg\n",
      "Image_308.jpeg\n",
      "Image_309.jpeg\n",
      "Image_310.jpeg\n"
     ]
    }
   ],
   "source": [
    "# import the modules\n",
    "import os\n",
    "from os import listdir\n",
    " \n",
    "# get the path/directory\n",
    "#folder_dir = r\"C:\\Users\\cef19\\Desktop\\DPhi\\World_League_Datathon\\pest_classification\\pest_classification\\training_dataset\"\n",
    "for images in os.listdir(folder_dir):\n",
    " \n",
    "    # check if the image ends with jpeg\n",
    "    if (images.endswith(\".jpeg\")):\n",
    "        print(images)"
   ]
  },
  {
   "cell_type": "code",
   "execution_count": 10,
   "metadata": {
    "id": "OmWRrQwBgQzq"
   },
   "outputs": [],
   "source": [
    "# import required module\n",
    "from pathlib import Path\n",
    " \n",
    "# get the path/directory\n",
    "folder_dir = \"C:\\\\Users\\\\cef19\\\\Desktop\\\\DPhi\\\\World_League_Datathon\\\\pest_classification\\\\pest_classification\\\\training_dataset\\Image_283.jpeg\"\n",
    " \n",
    "# iterate over files in\n",
    "# that directory\n",
    "images = Path(folder_dir).glob('*.jpeg')\n",
    "for image in images:\n",
    "    print(image)\n"
   ]
  },
  {
   "cell_type": "code",
   "execution_count": 11,
   "metadata": {
    "id": "-exq3M6ThRNR"
   },
   "outputs": [],
   "source": [
    "# import required module\n",
    "import glob\n",
    " \n",
    "# get the path/directory\n",
    "folder_dir = \"C:\\\\Users\\\\cef19\\\\Desktop\\\\DPhi\\\\World_League_Datathon\\\\pest_classification\\\\pest_classification\\\\training_dataset\\Image_283.jpeg\"\n",
    " \n",
    "# iterate over files in\n",
    "# that directory\n",
    "for images in glob.iglob(f'{folder_dir}/*'):\n",
    "   \n",
    "    # check if the image ends with png\n",
    "    if (images.endswith(\".jpeg\")):\n",
    "        print(images)"
   ]
  },
  {
   "cell_type": "code",
   "execution_count": 13,
   "metadata": {
    "colab": {
     "base_uri": "https://localhost:8080/"
    },
    "id": "xpT_oI5tisW6",
    "outputId": "343c0cbf-b52d-4c5b-fb33-8288ab147266"
   },
   "outputs": [
    {
     "name": "stdout",
     "output_type": "stream",
     "text": [
      "Files in 'C:\\\\Users\\\\cef19\\\\Desktop\\\\DPhi\\\\World_League_Datathon\\\\pest_classification': ['.ipynb_checkpoints', 'Image_1.jpg', 'pest_classification', 'Tensorflowsetupipynb.ipynb']\n"
     ]
    }
   ],
   "source": [
    "import os\n",
    "\n",
    "cwd = os.getcwd()  # Get the current working directory (cwd)\n",
    "files = os.listdir(cwd)  # Get all the files in that directory\n",
    "print(\"Files in %r: %s\" % (cwd, files))"
   ]
  },
  {
   "cell_type": "code",
   "execution_count": 14,
   "metadata": {},
   "outputs": [
    {
     "ename": "FileNotFoundError",
     "evalue": "[WinError 3] The system cannot find the path specified: 'C:\\\\Users\\\\cef19\\\\Desktop\\\\DPhi\\\\World_League_Datathon\\\\pest_classification/data/train/'",
     "output_type": "error",
     "traceback": [
      "\u001b[1;31m---------------------------------------------------------------------------\u001b[0m",
      "\u001b[1;31mFileNotFoundError\u001b[0m                         Traceback (most recent call last)",
      "\u001b[1;32m<ipython-input-14-360c7097c0f4>\u001b[0m in \u001b[0;36m<module>\u001b[1;34m\u001b[0m\n\u001b[0;32m      6\u001b[0m \u001b[1;33m\u001b[0m\u001b[0m\n\u001b[0;32m      7\u001b[0m \u001b[0mtrain_path\u001b[0m \u001b[1;33m=\u001b[0m \u001b[0mPATH\u001b[0m\u001b[1;33m+\u001b[0m\u001b[1;34m'/data/train/'\u001b[0m\u001b[1;33m\u001b[0m\u001b[1;33m\u001b[0m\u001b[0m\n\u001b[1;32m----> 8\u001b[1;33m \u001b[0mtrain_batch\u001b[0m \u001b[1;33m=\u001b[0m \u001b[0mos\u001b[0m\u001b[1;33m.\u001b[0m\u001b[0mlistdir\u001b[0m\u001b[1;33m(\u001b[0m\u001b[0mtrain_path\u001b[0m\u001b[1;33m)\u001b[0m\u001b[1;33m\u001b[0m\u001b[1;33m\u001b[0m\u001b[0m\n\u001b[0m\u001b[0;32m      9\u001b[0m \u001b[0mx_train\u001b[0m \u001b[1;33m=\u001b[0m \u001b[1;33m[\u001b[0m\u001b[1;33m]\u001b[0m\u001b[1;33m\u001b[0m\u001b[1;33m\u001b[0m\u001b[0m\n\u001b[0;32m     10\u001b[0m \u001b[1;33m\u001b[0m\u001b[0m\n",
      "\u001b[1;31mFileNotFoundError\u001b[0m: [WinError 3] The system cannot find the path specified: 'C:\\\\Users\\\\cef19\\\\Desktop\\\\DPhi\\\\World_League_Datathon\\\\pest_classification/data/train/'"
     ]
    }
   ],
   "source": [
    "import os  \n",
    "import numpy as np  \n",
    "from keras.preprocessing import image \n",
    " \n",
    "PATH = os.getcwd() \n",
    " \n",
    "train_path = PATH+'/data/train/' \n",
    "train_batch = os.listdir(train_path) \n",
    "x_train = [] \n",
    " \n",
    "# if data are in form of images \n",
    "for sample in train_data: \n",
    "\timg_path = train_path+sample \n",
    "\tx = image.load_img(img_path) \n",
    "\t# preprocessing if required \n",
    "\tx_train.append(x) \n",
    " \n",
    "test_path = PATH+'/data/test/' \n",
    "test_batch = os.listdir(test_path) \n",
    "x_test = [] "
   ]
  },
  {
   "cell_type": "code",
   "execution_count": 3,
   "metadata": {},
   "outputs": [
    {
     "name": "stdout",
     "output_type": "stream",
     "text": [
      "Collecting pydrive\n",
      "  Downloading PyDrive-1.3.1.tar.gz (987 kB)\n",
      "     -------------------------------------- 987.4/987.4 KB 5.2 MB/s eta 0:00:00\n",
      "  Preparing metadata (setup.py): started\n",
      "  Preparing metadata (setup.py): finished with status 'done'\n",
      "Collecting google-api-python-client>=1.2\n",
      "  Downloading google_api_python_client-2.41.0-py2.py3-none-any.whl (8.3 MB)\n",
      "     ---------------------------------------- 8.3/8.3 MB 13.2 MB/s eta 0:00:00\n",
      "Collecting oauth2client>=4.0.0\n",
      "  Downloading oauth2client-4.1.3-py2.py3-none-any.whl (98 kB)\n",
      "     ---------------------------------------- 98.2/98.2 KB 1.9 MB/s eta 0:00:00\n",
      "Requirement already satisfied: PyYAML>=3.0 in c:\\programdata\\anaconda3\\lib\\site-packages (from pydrive) (5.3.1)\n",
      "Collecting google-auth-httplib2>=0.1.0\n",
      "  Downloading google_auth_httplib2-0.1.0-py2.py3-none-any.whl (9.3 kB)\n",
      "Collecting google-api-core!=2.0.*,!=2.1.*,!=2.2.*,!=2.3.0,<3.0.0dev,>=1.31.5\n",
      "  Downloading google_api_core-2.7.1-py3-none-any.whl (114 kB)\n",
      "     -------------------------------------- 114.7/114.7 KB 6.5 MB/s eta 0:00:00\n",
      "Collecting uritemplate<5,>=3.0.1\n",
      "  Downloading uritemplate-4.1.1-py2.py3-none-any.whl (10 kB)\n",
      "Requirement already satisfied: google-auth<3.0.0dev,>=1.16.0 in c:\\programdata\\anaconda3\\lib\\site-packages (from google-api-python-client>=1.2->pydrive) (2.6.0)\n",
      "Collecting httplib2<1dev,>=0.15.0\n",
      "  Downloading httplib2-0.20.4-py3-none-any.whl (96 kB)\n",
      "     ---------------------------------------- 96.6/96.6 KB ? eta 0:00:00\n",
      "Requirement already satisfied: rsa>=3.1.4 in c:\\programdata\\anaconda3\\lib\\site-packages (from oauth2client>=4.0.0->pydrive) (4.8)\n",
      "Requirement already satisfied: pyasn1>=0.1.7 in c:\\programdata\\anaconda3\\lib\\site-packages (from oauth2client>=4.0.0->pydrive) (0.4.8)\n",
      "Requirement already satisfied: six>=1.6.1 in c:\\users\\cef19\\appdata\\roaming\\python\\python38\\site-packages (from oauth2client>=4.0.0->pydrive) (1.14.0)\n",
      "Requirement already satisfied: pyasn1-modules>=0.0.5 in c:\\programdata\\anaconda3\\lib\\site-packages (from oauth2client>=4.0.0->pydrive) (0.2.8)\n",
      "Requirement already satisfied: protobuf>=3.12.0 in c:\\programdata\\anaconda3\\lib\\site-packages (from google-api-core!=2.0.*,!=2.1.*,!=2.2.*,!=2.3.0,<3.0.0dev,>=1.31.5->google-api-python-client>=1.2->pydrive) (3.19.4)\n",
      "Requirement already satisfied: requests<3.0.0dev,>=2.18.0 in c:\\programdata\\anaconda3\\lib\\site-packages (from google-api-core!=2.0.*,!=2.1.*,!=2.2.*,!=2.3.0,<3.0.0dev,>=1.31.5->google-api-python-client>=1.2->pydrive) (2.27.1)\n",
      "Collecting googleapis-common-protos<2.0dev,>=1.52.0\n",
      "  Downloading googleapis_common_protos-1.56.0-py2.py3-none-any.whl (241 kB)\n",
      "     ------------------------------------- 241.5/241.5 KB 14.5 MB/s eta 0:00:00\n",
      "Requirement already satisfied: cachetools<6.0,>=2.0.0 in c:\\programdata\\anaconda3\\lib\\site-packages (from google-auth<3.0.0dev,>=1.16.0->google-api-python-client>=1.2->pydrive) (5.0.0)\n",
      "Requirement already satisfied: pyparsing!=3.0.0,!=3.0.1,!=3.0.2,!=3.0.3,<4,>=2.4.2 in c:\\programdata\\anaconda3\\lib\\site-packages (from httplib2<1dev,>=0.15.0->google-api-python-client>=1.2->pydrive) (2.4.7)\n",
      "Requirement already satisfied: idna<4,>=2.5 in c:\\programdata\\anaconda3\\lib\\site-packages (from requests<3.0.0dev,>=2.18.0->google-api-core!=2.0.*,!=2.1.*,!=2.2.*,!=2.3.0,<3.0.0dev,>=1.31.5->google-api-python-client>=1.2->pydrive) (2.10)\n",
      "Note: you may need to restart the kernel to use updated packages.Requirement already satisfied: charset-normalizer~=2.0.0 in c:\\programdata\\anaconda3\\lib\\site-packages (from requests<3.0.0dev,>=2.18.0->google-api-core!=2.0.*,!=2.1.*,!=2.2.*,!=2.3.0,<3.0.0dev,>=1.31.5->google-api-python-client>=1.2->pydrive) (2.0.12)\n",
      "Requirement already satisfied: certifi>=2017.4.17 in c:\\programdata\\anaconda3\\lib\\site-packages (from requests<3.0.0dev,>=2.18.0->google-api-core!=2.0.*,!=2.1.*,!=2.2.*,!=2.3.0,<3.0.0dev,>=1.31.5->google-api-python-client>=1.2->pydrive) (2020.6.20)\n",
      "Requirement already satisfied: urllib3<1.27,>=1.21.1 in c:\\programdata\\anaconda3\\lib\\site-packages (from requests<3.0.0dev,>=2.18.0->google-api-core!=2.0.*,!=2.1.*,!=2.2.*,!=2.3.0,<3.0.0dev,>=1.31.5->google-api-python-client>=1.2->pydrive) (1.26.8)\n",
      "Building wheels for collected packages: pydrive\n",
      "  Building wheel for pydrive (setup.py): started\n",
      "  Building wheel for pydrive (setup.py): finished with status 'done'\n",
      "  Created wheel for pydrive: filename=PyDrive-1.3.1-py3-none-any.whl size=27457 sha256=c4c84c0abfea45dc22e1332472ba59f1214c16c14251d8ff105800cc884b4a53\n",
      "  Stored in directory: c:\\users\\cef19\\appdata\\local\\pip\\cache\\wheels\\c6\\14\\12\\ccdcc5d3b41661f360f9c7d9f7ea9d1879a5f85aa4ecc8cc6f\n",
      "Successfully built pydrive\n",
      "Installing collected packages: uritemplate, httplib2, googleapis-common-protos, oauth2client, google-auth-httplib2, google-api-core, google-api-python-client, pydrive\n",
      "Successfully installed google-api-core-2.7.1 google-api-python-client-2.41.0 google-auth-httplib2-0.1.0 googleapis-common-protos-1.56.0 httplib2-0.20.4 oauth2client-4.1.3 pydrive-1.3.1 uritemplate-4.1.1\n",
      "\n"
     ]
    },
    {
     "name": "stderr",
     "output_type": "stream",
     "text": [
      "WARNING: Ignoring invalid distribution -upyter-client (c:\\programdata\\anaconda3\\lib\\site-packages)\n",
      "WARNING: Ignoring invalid distribution -upyter-client (c:\\programdata\\anaconda3\\lib\\site-packages)\n",
      "WARNING: Ignoring invalid distribution -upyter-client (c:\\programdata\\anaconda3\\lib\\site-packages)\n",
      "WARNING: Ignoring invalid distribution -upyter-client (c:\\programdata\\anaconda3\\lib\\site-packages)\n",
      "WARNING: Ignoring invalid distribution -upyter-client (c:\\programdata\\anaconda3\\lib\\site-packages)\n",
      "WARNING: Ignoring invalid distribution -upyter-client (c:\\programdata\\anaconda3\\lib\\site-packages)\n",
      "WARNING: Ignoring invalid distribution -upyter-client (c:\\programdata\\anaconda3\\lib\\site-packages)\n",
      "WARNING: Ignoring invalid distribution -upyter-client (c:\\programdata\\anaconda3\\lib\\site-packages)\n",
      "WARNING: Ignoring invalid distribution -upyter-client (c:\\programdata\\anaconda3\\lib\\site-packages)\n",
      "WARNING: Ignoring invalid distribution -upyter-client (c:\\programdata\\anaconda3\\lib\\site-packages)\n",
      "WARNING: Ignoring invalid distribution -upyter-client (c:\\programdata\\anaconda3\\lib\\site-packages)\n",
      "WARNING: Ignoring invalid distribution -upyter-client (c:\\programdata\\anaconda3\\lib\\site-packages)\n",
      "WARNING: Ignoring invalid distribution -upyter-client (c:\\programdata\\anaconda3\\lib\\site-packages)\n",
      "WARNING: Ignoring invalid distribution -upyter-client (c:\\programdata\\anaconda3\\lib\\site-packages)\n",
      "WARNING: You are using pip version 22.0.3; however, version 22.0.4 is available.\n",
      "You should consider upgrading via the 'C:\\ProgramData\\Anaconda3\\python.exe -m pip install --upgrade pip' command.\n"
     ]
    }
   ],
   "source": [
    "pip install pydrive"
   ]
  },
  {
   "cell_type": "code",
   "execution_count": 4,
   "metadata": {},
   "outputs": [
    {
     "ename": "InvalidConfigError",
     "evalue": "Invalid client secrets file ('Error opening file', 'client_secrets.json', 'No such file or directory', 2)",
     "output_type": "error",
     "traceback": [
      "\u001b[1;31m---------------------------------------------------------------------------\u001b[0m",
      "\u001b[1;31mFileNotFoundError\u001b[0m                         Traceback (most recent call last)",
      "\u001b[1;32mC:\\ProgramData\\Anaconda3\\lib\\site-packages\\oauth2client\\clientsecrets.py\u001b[0m in \u001b[0;36m_loadfile\u001b[1;34m(filename)\u001b[0m\n\u001b[0;32m    120\u001b[0m     \u001b[1;32mtry\u001b[0m\u001b[1;33m:\u001b[0m\u001b[1;33m\u001b[0m\u001b[1;33m\u001b[0m\u001b[0m\n\u001b[1;32m--> 121\u001b[1;33m         \u001b[1;32mwith\u001b[0m \u001b[0mopen\u001b[0m\u001b[1;33m(\u001b[0m\u001b[0mfilename\u001b[0m\u001b[1;33m,\u001b[0m \u001b[1;34m'r'\u001b[0m\u001b[1;33m)\u001b[0m \u001b[1;32mas\u001b[0m \u001b[0mfp\u001b[0m\u001b[1;33m:\u001b[0m\u001b[1;33m\u001b[0m\u001b[1;33m\u001b[0m\u001b[0m\n\u001b[0m\u001b[0;32m    122\u001b[0m             \u001b[0mobj\u001b[0m \u001b[1;33m=\u001b[0m \u001b[0mjson\u001b[0m\u001b[1;33m.\u001b[0m\u001b[0mload\u001b[0m\u001b[1;33m(\u001b[0m\u001b[0mfp\u001b[0m\u001b[1;33m)\u001b[0m\u001b[1;33m\u001b[0m\u001b[1;33m\u001b[0m\u001b[0m\n",
      "\u001b[1;31mFileNotFoundError\u001b[0m: [Errno 2] No such file or directory: 'client_secrets.json'",
      "\nDuring handling of the above exception, another exception occurred:\n",
      "\u001b[1;31mInvalidClientSecretsError\u001b[0m                 Traceback (most recent call last)",
      "\u001b[1;32mC:\\ProgramData\\Anaconda3\\lib\\site-packages\\pydrive\\auth.py\u001b[0m in \u001b[0;36mLoadClientConfigFile\u001b[1;34m(self, client_config_file)\u001b[0m\n\u001b[0;32m    385\u001b[0m     \u001b[1;32mtry\u001b[0m\u001b[1;33m:\u001b[0m\u001b[1;33m\u001b[0m\u001b[1;33m\u001b[0m\u001b[0m\n\u001b[1;32m--> 386\u001b[1;33m       \u001b[0mclient_type\u001b[0m\u001b[1;33m,\u001b[0m \u001b[0mclient_info\u001b[0m \u001b[1;33m=\u001b[0m \u001b[0mclientsecrets\u001b[0m\u001b[1;33m.\u001b[0m\u001b[0mloadfile\u001b[0m\u001b[1;33m(\u001b[0m\u001b[0mclient_config_file\u001b[0m\u001b[1;33m)\u001b[0m\u001b[1;33m\u001b[0m\u001b[1;33m\u001b[0m\u001b[0m\n\u001b[0m\u001b[0;32m    387\u001b[0m     \u001b[1;32mexcept\u001b[0m \u001b[0mclientsecrets\u001b[0m\u001b[1;33m.\u001b[0m\u001b[0mInvalidClientSecretsError\u001b[0m \u001b[1;32mas\u001b[0m \u001b[0merror\u001b[0m\u001b[1;33m:\u001b[0m\u001b[1;33m\u001b[0m\u001b[1;33m\u001b[0m\u001b[0m\n",
      "\u001b[1;32mC:\\ProgramData\\Anaconda3\\lib\\site-packages\\oauth2client\\clientsecrets.py\u001b[0m in \u001b[0;36mloadfile\u001b[1;34m(filename, cache)\u001b[0m\n\u001b[0;32m    164\u001b[0m     \u001b[1;32mif\u001b[0m \u001b[1;32mnot\u001b[0m \u001b[0mcache\u001b[0m\u001b[1;33m:\u001b[0m\u001b[1;33m\u001b[0m\u001b[1;33m\u001b[0m\u001b[0m\n\u001b[1;32m--> 165\u001b[1;33m         \u001b[1;32mreturn\u001b[0m \u001b[0m_loadfile\u001b[0m\u001b[1;33m(\u001b[0m\u001b[0mfilename\u001b[0m\u001b[1;33m)\u001b[0m\u001b[1;33m\u001b[0m\u001b[1;33m\u001b[0m\u001b[0m\n\u001b[0m\u001b[0;32m    166\u001b[0m \u001b[1;33m\u001b[0m\u001b[0m\n",
      "\u001b[1;32mC:\\ProgramData\\Anaconda3\\lib\\site-packages\\oauth2client\\clientsecrets.py\u001b[0m in \u001b[0;36m_loadfile\u001b[1;34m(filename)\u001b[0m\n\u001b[0;32m    123\u001b[0m     \u001b[1;32mexcept\u001b[0m \u001b[0mIOError\u001b[0m \u001b[1;32mas\u001b[0m \u001b[0mexc\u001b[0m\u001b[1;33m:\u001b[0m\u001b[1;33m\u001b[0m\u001b[1;33m\u001b[0m\u001b[0m\n\u001b[1;32m--> 124\u001b[1;33m         raise InvalidClientSecretsError('Error opening file', exc.filename,\n\u001b[0m\u001b[0;32m    125\u001b[0m                                         exc.strerror, exc.errno)\n",
      "\u001b[1;31mInvalidClientSecretsError\u001b[0m: ('Error opening file', 'client_secrets.json', 'No such file or directory', 2)",
      "\nDuring handling of the above exception, another exception occurred:\n",
      "\u001b[1;31mInvalidConfigError\u001b[0m                        Traceback (most recent call last)",
      "\u001b[1;32m<ipython-input-4-535b9278ca7e>\u001b[0m in \u001b[0;36m<module>\u001b[1;34m\u001b[0m\n\u001b[0;32m      3\u001b[0m \u001b[1;33m\u001b[0m\u001b[0m\n\u001b[0;32m      4\u001b[0m \u001b[0mgauth\u001b[0m \u001b[1;33m=\u001b[0m \u001b[0mGoogleAuth\u001b[0m\u001b[1;33m(\u001b[0m\u001b[1;33m)\u001b[0m\u001b[1;33m\u001b[0m\u001b[1;33m\u001b[0m\u001b[0m\n\u001b[1;32m----> 5\u001b[1;33m \u001b[0mgauth\u001b[0m\u001b[1;33m.\u001b[0m\u001b[0mLocalWebserverAuth\u001b[0m\u001b[1;33m(\u001b[0m\u001b[1;33m)\u001b[0m \u001b[1;31m# client_secrets.json need to be in the same directory as the script\u001b[0m\u001b[1;33m\u001b[0m\u001b[1;33m\u001b[0m\u001b[0m\n\u001b[0m\u001b[0;32m      6\u001b[0m \u001b[0mdrive\u001b[0m \u001b[1;33m=\u001b[0m \u001b[0mGoogleDrive\u001b[0m\u001b[1;33m(\u001b[0m\u001b[0mgauth\u001b[0m\u001b[1;33m)\u001b[0m\u001b[1;33m\u001b[0m\u001b[1;33m\u001b[0m\u001b[0m\n",
      "\u001b[1;32mC:\\ProgramData\\Anaconda3\\lib\\site-packages\\pydrive\\auth.py\u001b[0m in \u001b[0;36m_decorated\u001b[1;34m(self, *args, **kwargs)\u001b[0m\n\u001b[0;32m    111\u001b[0m       \u001b[0mself\u001b[0m\u001b[1;33m.\u001b[0m\u001b[0mLoadCredentials\u001b[0m\u001b[1;33m(\u001b[0m\u001b[1;33m)\u001b[0m\u001b[1;33m\u001b[0m\u001b[1;33m\u001b[0m\u001b[0m\n\u001b[0;32m    112\u001b[0m     \u001b[1;32mif\u001b[0m \u001b[0mself\u001b[0m\u001b[1;33m.\u001b[0m\u001b[0mflow\u001b[0m \u001b[1;32mis\u001b[0m \u001b[1;32mNone\u001b[0m\u001b[1;33m:\u001b[0m\u001b[1;33m\u001b[0m\u001b[1;33m\u001b[0m\u001b[0m\n\u001b[1;32m--> 113\u001b[1;33m       \u001b[0mself\u001b[0m\u001b[1;33m.\u001b[0m\u001b[0mGetFlow\u001b[0m\u001b[1;33m(\u001b[0m\u001b[1;33m)\u001b[0m\u001b[1;33m\u001b[0m\u001b[1;33m\u001b[0m\u001b[0m\n\u001b[0m\u001b[0;32m    114\u001b[0m     \u001b[1;32mif\u001b[0m \u001b[0mself\u001b[0m\u001b[1;33m.\u001b[0m\u001b[0mcredentials\u001b[0m \u001b[1;32mis\u001b[0m \u001b[1;32mNone\u001b[0m\u001b[1;33m:\u001b[0m\u001b[1;33m\u001b[0m\u001b[1;33m\u001b[0m\u001b[0m\n\u001b[0;32m    115\u001b[0m       \u001b[0mcode\u001b[0m \u001b[1;33m=\u001b[0m \u001b[0mdecoratee\u001b[0m\u001b[1;33m(\u001b[0m\u001b[0mself\u001b[0m\u001b[1;33m,\u001b[0m \u001b[1;33m*\u001b[0m\u001b[0margs\u001b[0m\u001b[1;33m,\u001b[0m \u001b[1;33m**\u001b[0m\u001b[0mkwargs\u001b[0m\u001b[1;33m)\u001b[0m\u001b[1;33m\u001b[0m\u001b[1;33m\u001b[0m\u001b[0m\n",
      "\u001b[1;32mC:\\ProgramData\\Anaconda3\\lib\\site-packages\\pydrive\\auth.py\u001b[0m in \u001b[0;36mGetFlow\u001b[1;34m(self)\u001b[0m\n\u001b[0;32m    441\u001b[0m     if not all(config in self.client_config \\\n\u001b[0;32m    442\u001b[0m                for config in self.CLIENT_CONFIGS_LIST):\n\u001b[1;32m--> 443\u001b[1;33m       \u001b[0mself\u001b[0m\u001b[1;33m.\u001b[0m\u001b[0mLoadClientConfig\u001b[0m\u001b[1;33m(\u001b[0m\u001b[1;33m)\u001b[0m\u001b[1;33m\u001b[0m\u001b[1;33m\u001b[0m\u001b[0m\n\u001b[0m\u001b[0;32m    444\u001b[0m     constructor_kwargs = {\n\u001b[0;32m    445\u001b[0m         \u001b[1;34m'redirect_uri'\u001b[0m\u001b[1;33m:\u001b[0m \u001b[0mself\u001b[0m\u001b[1;33m.\u001b[0m\u001b[0mclient_config\u001b[0m\u001b[1;33m[\u001b[0m\u001b[1;34m'redirect_uri'\u001b[0m\u001b[1;33m]\u001b[0m\u001b[1;33m,\u001b[0m\u001b[1;33m\u001b[0m\u001b[1;33m\u001b[0m\u001b[0m\n",
      "\u001b[1;32mC:\\ProgramData\\Anaconda3\\lib\\site-packages\\pydrive\\auth.py\u001b[0m in \u001b[0;36mLoadClientConfig\u001b[1;34m(self, backend)\u001b[0m\n\u001b[0;32m    364\u001b[0m         \u001b[1;32mraise\u001b[0m \u001b[0mInvalidConfigError\u001b[0m\u001b[1;33m(\u001b[0m\u001b[1;34m'Please specify client config backend'\u001b[0m\u001b[1;33m)\u001b[0m\u001b[1;33m\u001b[0m\u001b[1;33m\u001b[0m\u001b[0m\n\u001b[0;32m    365\u001b[0m     \u001b[1;32mif\u001b[0m \u001b[0mbackend\u001b[0m \u001b[1;33m==\u001b[0m \u001b[1;34m'file'\u001b[0m\u001b[1;33m:\u001b[0m\u001b[1;33m\u001b[0m\u001b[1;33m\u001b[0m\u001b[0m\n\u001b[1;32m--> 366\u001b[1;33m       \u001b[0mself\u001b[0m\u001b[1;33m.\u001b[0m\u001b[0mLoadClientConfigFile\u001b[0m\u001b[1;33m(\u001b[0m\u001b[1;33m)\u001b[0m\u001b[1;33m\u001b[0m\u001b[1;33m\u001b[0m\u001b[0m\n\u001b[0m\u001b[0;32m    367\u001b[0m     \u001b[1;32melif\u001b[0m \u001b[0mbackend\u001b[0m \u001b[1;33m==\u001b[0m \u001b[1;34m'settings'\u001b[0m\u001b[1;33m:\u001b[0m\u001b[1;33m\u001b[0m\u001b[1;33m\u001b[0m\u001b[0m\n\u001b[0;32m    368\u001b[0m       \u001b[0mself\u001b[0m\u001b[1;33m.\u001b[0m\u001b[0mLoadClientConfigSettings\u001b[0m\u001b[1;33m(\u001b[0m\u001b[1;33m)\u001b[0m\u001b[1;33m\u001b[0m\u001b[1;33m\u001b[0m\u001b[0m\n",
      "\u001b[1;32mC:\\ProgramData\\Anaconda3\\lib\\site-packages\\pydrive\\auth.py\u001b[0m in \u001b[0;36mLoadClientConfigFile\u001b[1;34m(self, client_config_file)\u001b[0m\n\u001b[0;32m    386\u001b[0m       \u001b[0mclient_type\u001b[0m\u001b[1;33m,\u001b[0m \u001b[0mclient_info\u001b[0m \u001b[1;33m=\u001b[0m \u001b[0mclientsecrets\u001b[0m\u001b[1;33m.\u001b[0m\u001b[0mloadfile\u001b[0m\u001b[1;33m(\u001b[0m\u001b[0mclient_config_file\u001b[0m\u001b[1;33m)\u001b[0m\u001b[1;33m\u001b[0m\u001b[1;33m\u001b[0m\u001b[0m\n\u001b[0;32m    387\u001b[0m     \u001b[1;32mexcept\u001b[0m \u001b[0mclientsecrets\u001b[0m\u001b[1;33m.\u001b[0m\u001b[0mInvalidClientSecretsError\u001b[0m \u001b[1;32mas\u001b[0m \u001b[0merror\u001b[0m\u001b[1;33m:\u001b[0m\u001b[1;33m\u001b[0m\u001b[1;33m\u001b[0m\u001b[0m\n\u001b[1;32m--> 388\u001b[1;33m       \u001b[1;32mraise\u001b[0m \u001b[0mInvalidConfigError\u001b[0m\u001b[1;33m(\u001b[0m\u001b[1;34m'Invalid client secrets file %s'\u001b[0m \u001b[1;33m%\u001b[0m \u001b[0merror\u001b[0m\u001b[1;33m)\u001b[0m\u001b[1;33m\u001b[0m\u001b[1;33m\u001b[0m\u001b[0m\n\u001b[0m\u001b[0;32m    389\u001b[0m     if not client_type in (clientsecrets.TYPE_WEB,\n\u001b[0;32m    390\u001b[0m                            clientsecrets.TYPE_INSTALLED):\n",
      "\u001b[1;31mInvalidConfigError\u001b[0m: Invalid client secrets file ('Error opening file', 'client_secrets.json', 'No such file or directory', 2)"
     ]
    }
   ],
   "source": [
    "from pydrive.auth import GoogleAuth\n",
    "from pydrive.drive import GoogleDrive\n",
    "\n",
    "gauth = GoogleAuth()\n",
    "gauth.LocalWebserverAuth() # client_secrets.json need to be in the same directory as the script\n",
    "drive = GoogleDrive(gauth)"
   ]
  },
  {
   "cell_type": "code",
   "execution_count": null,
   "metadata": {},
   "outputs": [],
   "source": [
    "from google.colab import drive\n",
    "drive.mount('/content/gdrive')"
   ]
  }
 ],
 "metadata": {
  "colab": {
   "name": "Tensorflowsetupipynb",
   "provenance": []
  },
  "kernelspec": {
   "display_name": "Python 3",
   "language": "python",
   "name": "python3"
  },
  "language_info": {
   "codemirror_mode": {
    "name": "ipython",
    "version": 3
   },
   "file_extension": ".py",
   "mimetype": "text/x-python",
   "name": "python",
   "nbconvert_exporter": "python",
   "pygments_lexer": "ipython3",
   "version": "3.8.5"
  }
 },
 "nbformat": 4,
 "nbformat_minor": 1
}
